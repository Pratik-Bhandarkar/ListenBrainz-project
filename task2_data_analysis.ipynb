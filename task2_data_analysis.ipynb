{
 "cells": [
  {
   "cell_type": "markdown",
   "id": "60d907a5",
   "metadata": {},
   "source": [
    "# Task #2 Data Analysis"
   ]
  },
  {
   "cell_type": "markdown",
   "id": "f8186686",
   "metadata": {},
   "source": [
    "### Connect to database"
   ]
  },
  {
   "cell_type": "code",
   "execution_count": null,
   "id": "61001cf0",
   "metadata": {},
   "outputs": [],
   "source": [
    "import duckdb\n",
    "# Connect to the DuckDB database change the name below as given while running ingest.py\n",
    "con = duckdb.connect(\"music-listens.duckdb\")"
   ]
  },
  {
   "cell_type": "markdown",
   "id": "f63b1f0d",
   "metadata": {},
   "source": [
    "## In the following, we ask you to run some SQL queries on the database you built in Task\n",
    "### 1. The goal is to get more information out of the provided data.\n",
    "\n",
    "a) To get started, answer the following questions:"
   ]
  },
  {
   "cell_type": "markdown",
   "id": "608af23d",
   "metadata": {},
   "source": [
    "### Who are the top 10 users with respect to number of songs listened to?"
   ]
  },
  {
   "cell_type": "code",
   "execution_count": 6,
   "id": "4749d2a9",
   "metadata": {},
   "outputs": [
    {
     "data": {
      "text/plain": [
       "┌────────────────┬───────────────┐\n",
       "│   user_name    │ total_listens │\n",
       "│    varchar     │     int64     │\n",
       "├────────────────┼───────────────┤\n",
       "│ hds            │         46862 │\n",
       "│ Groschi        │         14959 │\n",
       "│ Silent Singer  │         12675 │\n",
       "│ 6d6f7274686f6e │         11042 │\n",
       "│ phdnk          │         10671 │\n",
       "│ reverbel       │          8389 │\n",
       "│ Cl�psHydra     │          8318 │\n",
       "│ InvincibleAsia │          7658 │\n",
       "│ cimualte       │          7356 │\n",
       "│ inhji          │          6349 │\n",
       "├────────────────┴───────────────┤\n",
       "│ 10 rows              2 columns │\n",
       "└────────────────────────────────┘"
      ]
     },
     "execution_count": 6,
     "metadata": {},
     "output_type": "execute_result"
    }
   ],
   "source": [
    "con.sql(\"\"\"SELECT   user_name, \n",
    "                    COUNT(recording_msid) AS total_listens \n",
    "                    FROM listens\n",
    "                    GROUP BY user_name\n",
    "                    ORDER BY COUNT(recording_msid) DESC\n",
    "                    LIMIT 10\"\"\")"
   ]
  },
  {
   "cell_type": "markdown",
   "id": "d1504e93",
   "metadata": {},
   "source": [
    "### How many users did listen to some song on the 1st of March 2019?"
   ]
  },
  {
   "cell_type": "code",
   "execution_count": 7,
   "id": "4c913b30",
   "metadata": {},
   "outputs": [
    {
     "data": {
      "text/plain": [
       "┌──────────────┐\n",
       "│ active_users │\n",
       "│    int64     │\n",
       "├──────────────┤\n",
       "│           72 │\n",
       "└──────────────┘"
      ]
     },
     "execution_count": 7,
     "metadata": {},
     "output_type": "execute_result"
    }
   ],
   "source": [
    "con.sql(\"\"\"\n",
    "    SELECT count(distinct user_name) AS active_users\n",
    "    FROM listens\n",
    "    WHERE DATE(listened_at) = '2019-03-01';\n",
    "\"\"\")"
   ]
  },
  {
   "cell_type": "markdown",
   "id": "92eb3e77",
   "metadata": {},
   "source": [
    "### For every user, what was the first song the user listened to?"
   ]
  },
  {
   "cell_type": "code",
   "execution_count": 8,
   "id": "31d563c3",
   "metadata": {},
   "outputs": [
    {
     "data": {
      "text/plain": [
       "┌─────────────────┬──────────────────────────────────────┬─────────────────────┐\n",
       "│    user_name    │              track_name              │     listened_at     │\n",
       "│     varchar     │               varchar                │      timestamp      │\n",
       "├─────────────────┼──────────────────────────────────────┼─────────────────────┤\n",
       "│ 6d6f7274686f6e  │ The Leper Affinity                   │ 2019-01-01 11:41:51 │\n",
       "│ Adsky_traktor   │ Сердце с долгом разлучается          │ 2019-01-01 10:24:44 │\n",
       "│ AllSparks       │ Fever                                │ 2019-01-02 09:48:19 │\n",
       "│ AlwinHummels    │ Geef me je angst                     │ 2019-02-24 12:40:47 │\n",
       "│ Arcor           │ Exsultate Justi                      │ 2019-01-01 02:22:23 │\n",
       "│ AscendedGravity │ Amoeba                               │ 2019-01-02 00:01:17 │\n",
       "│ Bezvezenator    │ Devour                               │ 2019-01-01 07:19:22 │\n",
       "│ BiamBioum       │ Beirut (14.12.16 - Live in Paris)    │ 2019-01-07 14:56:07 │\n",
       "│ BlackGauna      │ Visionz                              │ 2019-01-01 19:36:09 │\n",
       "│ Boris_Neo       │ Keep You Close                       │ 2019-01-22 17:48:27 │\n",
       "│    ·            │       ·                              │          ·          │\n",
       "│    ·            │       ·                              │          ·          │\n",
       "│    ·            │       ·                              │          ·          │\n",
       "│ verfyjd         │ The Magic Number                     │ 2019-03-03 12:20:07 │\n",
       "│ vitalikdobriy   │ Я из станицы                         │ 2019-02-21 10:14:08 │\n",
       "│ welldread       │ Pure Essence                         │ 2019-01-31 10:33:50 │\n",
       "│ whatisbetter    │ Need You Now                         │ 2019-01-01 09:13:39 │\n",
       "│ xokoyotzin      │ First Time                           │ 2019-01-01 01:50:56 │\n",
       "│ xvicarious      │ Beer Bucket List                     │ 2019-01-01 02:06:13 │\n",
       "│ yellams         │ Hold You Under (feat. Marcus Bridge) │ 2019-01-02 10:37:47 │\n",
       "│ zebedeemcdougal │ Roygbiv                              │ 2019-01-02 13:37:20 │\n",
       "│ zergut          │ Chasing The Sun                      │ 2019-01-02 13:19:03 │\n",
       "│ †AtzzkiySotona† │ Meridian                             │ 2019-01-05 12:13:45 │\n",
       "├─────────────────┴──────────────────────────────────────┴─────────────────────┤\n",
       "│ 200 rows (20 shown)                                                3 columns │\n",
       "└──────────────────────────────────────────────────────────────────────────────┘"
      ]
     },
     "execution_count": 8,
     "metadata": {},
     "output_type": "execute_result"
    }
   ],
   "source": [
    "con.sql(\"\"\"\n",
    "    with first_song as (SELECT l.user_name, r.track_name,l.listened_at,row_number() OVER (PARTITION BY l.user_name ORDER BY l.listened_at asc) AS rn\n",
    "    FROM listens l\n",
    "    left join\n",
    "    recordings r\n",
    "    ON l.recording_msid = r.recording_msid)\n",
    "    select user_name, track_name, listened_at from first_song\n",
    "    where rn = 1\n",
    "    ORDER BY user_name;\n",
    "\"\"\")"
   ]
  },
  {
   "cell_type": "markdown",
   "id": "b0c95926",
   "metadata": {},
   "source": [
    "### b) Next, let's do a deep dive into user behaviour next. \n",
    "\n",
    "### For each user, we want to know the top 3 days on which they had the most listens, and how many listens they had oneach of these days. The result should \n",
    "\n",
    "### include the following:\n",
    "\n",
    "### 3 rows per user\n",
    "### 3 columns: (user, number_of_listens, date)\n",
    "\n",
    "### Please sort the result by the user and the number_of_listens column"
   ]
  },
  {
   "cell_type": "code",
   "execution_count": 9,
   "id": "7f9f799e",
   "metadata": {},
   "outputs": [
    {
     "data": {
      "text/plain": [
       "┌─────────────────┬───────────────────┬────────────┐\n",
       "│    user_name    │ number_of_listens │    date    │\n",
       "│     varchar     │       int64       │    date    │\n",
       "├─────────────────┼───────────────────┼────────────┤\n",
       "│ 6d6f7274686f6e  │               200 │ 2019-01-27 │\n",
       "│ 6d6f7274686f6e  │               194 │ 2019-01-14 │\n",
       "│ 6d6f7274686f6e  │               193 │ 2019-01-16 │\n",
       "│ Adsky_traktor   │               109 │ 2019-01-03 │\n",
       "│ Adsky_traktor   │                99 │ 2019-01-05 │\n",
       "│ Adsky_traktor   │                86 │ 2019-01-04 │\n",
       "│ AllSparks       │               114 │ 2019-01-31 │\n",
       "│ AllSparks       │                81 │ 2019-01-23 │\n",
       "│ AllSparks       │                71 │ 2019-01-07 │\n",
       "│ AlwinHummels    │                 1 │ 2019-02-24 │\n",
       "│    ·            │                 · │     ·      │\n",
       "│    ·            │                 · │     ·      │\n",
       "│    ·            │                 · │     ·      │\n",
       "│ yellams         │               157 │ 2019-02-15 │\n",
       "│ zebedeemcdougal │                81 │ 2019-02-02 │\n",
       "│ zebedeemcdougal │                74 │ 2019-02-22 │\n",
       "│ zebedeemcdougal │                72 │ 2019-01-11 │\n",
       "│ zergut          │               120 │ 2019-01-02 │\n",
       "│ zergut          │                59 │ 2019-02-26 │\n",
       "│ zergut          │                42 │ 2019-03-05 │\n",
       "│ †AtzzkiySotona† │                39 │ 2019-01-09 │\n",
       "│ †AtzzkiySotona† │                37 │ 2019-03-21 │\n",
       "│ †AtzzkiySotona† │                35 │ 2019-03-19 │\n",
       "├─────────────────┴───────────────────┴────────────┤\n",
       "│ 571 rows (20 shown)                    3 columns │\n",
       "└──────────────────────────────────────────────────┘"
      ]
     },
     "execution_count": 9,
     "metadata": {},
     "output_type": "execute_result"
    }
   ],
   "source": [
    "con.sql(\"\"\"\n",
    "   WITH daily_counts AS (\n",
    "  SELECT user_name, DATE(listened_at) AS listen_date, COUNT(*) AS listens_per_day\n",
    "  FROM listens\n",
    "  GROUP BY user_name, DATE(listened_at)\n",
    "),\n",
    "ranked AS (\n",
    "  SELECT user_name, listen_date, listens_per_day,\n",
    "    ROW_NUMBER() OVER (\n",
    "      PARTITION BY user_name\n",
    "      ORDER BY listens_per_day DESC\n",
    "    ) AS rn\n",
    "  FROM daily_counts\n",
    ")\n",
    "SELECT\n",
    "  user_name,\n",
    "  listens_per_day AS number_of_listens,\n",
    "  listen_date    AS date\n",
    "FROM ranked\n",
    "WHERE rn <= 3\n",
    "ORDER BY user_name, number_of_listens DESC;\n",
    "\n",
    "\"\"\")"
   ]
  },
  {
   "cell_type": "markdown",
   "id": "f58836fb",
   "metadata": {},
   "source": [
    "### c) Finally, we want to understand the development of active users within our userbase.\n",
    "\n",
    "### For this, please write a query that calculates, on a daily basis, the absolute number of active users, and the percentage of active users among all users.\n",
    "\n",
    "### We define a user to be active one some day X, if the user listened to at least one song in the time interval [X-6 days, X]. \n",
    "\n",
    "### The result should adhere to the following schema:\n",
    "### 1 row per day\n",
    "### 3 columns: (date, number_active_users, percentage_active_users)\n",
    "\n",
    "### Please sort the result by date."
   ]
  },
  {
   "cell_type": "code",
   "execution_count": null,
   "id": "7402281f",
   "metadata": {},
   "outputs": [
    {
     "data": {
      "text/plain": [
       "┌────────────┬─────────────────────┬─────────────────────────┐\n",
       "│    date    │ number_active_users │ percentage_active_users │\n",
       "│    date    │        int64        │         double          │\n",
       "├────────────┼─────────────────────┼─────────────────────────┤\n",
       "│ 2019-01-01 │                  68 │                    0.34 │\n",
       "│ 2019-01-02 │                  92 │                    0.46 │\n",
       "│ 2019-01-03 │                 100 │                     0.5 │\n",
       "│ 2019-01-04 │                 105 │                   0.525 │\n",
       "│ 2019-01-05 │                 106 │                    0.53 │\n",
       "│ 2019-01-06 │                 109 │                   0.545 │\n",
       "│ 2019-01-07 │                 113 │                   0.565 │\n",
       "│ 2019-01-08 │                 112 │                    0.56 │\n",
       "│ 2019-01-09 │                 114 │                    0.57 │\n",
       "│ 2019-01-10 │                 114 │                    0.57 │\n",
       "│     ·      │                   · │                      ·  │\n",
       "│     ·      │                   · │                      ·  │\n",
       "│     ·      │                   · │                      ·  │\n",
       "│ 2019-04-06 │                  95 │                   0.475 │\n",
       "│ 2019-04-07 │                  93 │                   0.465 │\n",
       "│ 2019-04-08 │                  91 │                   0.455 │\n",
       "│ 2019-04-09 │                  91 │                   0.455 │\n",
       "│ 2019-04-10 │                  90 │                    0.45 │\n",
       "│ 2019-04-11 │                  89 │                   0.445 │\n",
       "│ 2019-04-12 │                  89 │                   0.445 │\n",
       "│ 2019-04-13 │                  92 │                    0.46 │\n",
       "│ 2019-04-14 │                  94 │                    0.47 │\n",
       "│ 2019-04-15 │                  91 │                   0.455 │\n",
       "├────────────┴─────────────────────┴─────────────────────────┤\n",
       "│ 105 rows (20 shown)                              3 columns │\n",
       "└────────────────────────────────────────────────────────────┘"
      ]
     },
     "execution_count": 10,
     "metadata": {},
     "output_type": "execute_result"
    }
   ],
   "source": [
    "con.sql(\"\"\"\n",
    "   WITH all_dates AS (\n",
    "  SELECT DISTINCT DATE(listened_at) AS date\n",
    "  FROM listens\n",
    "),\n",
    "total_users AS (\n",
    "  SELECT COUNT(DISTINCT user_name) AS cnt\n",
    "  FROM listens\n",
    ")\n",
    "SELECT\n",
    "  d.date,\n",
    "  COUNT(DISTINCT l.user_name) AS number_active_users,\n",
    "  ROUND(\n",
    "    CAST(COUNT(DISTINCT l.user_name) AS DOUBLE) / tu.cnt,\n",
    "    4\n",
    "  ) AS percentage_active_users\n",
    "FROM all_dates AS d\n",
    "CROSS JOIN total_users AS tu\n",
    "LEFT JOIN listens AS l\n",
    "  ON DATE(l.listened_at) BETWEEN d.date - 6 AND d.date\n",
    "GROUP BY d.date, tu.cnt\n",
    "ORDER BY d.date;\n",
    "\"\"\")"
   ]
  },
  {
   "cell_type": "code",
   "execution_count": null,
   "id": "49285c10",
   "metadata": {},
   "outputs": [],
   "source": [
    "# Close the connection to the database\n",
    "con.close()"
   ]
  }
 ],
 "metadata": {
  "kernelspec": {
   "display_name": "scalablecapitalenv",
   "language": "python",
   "name": "python3"
  },
  "language_info": {
   "codemirror_mode": {
    "name": "ipython",
    "version": 3
   },
   "file_extension": ".py",
   "mimetype": "text/x-python",
   "name": "python",
   "nbconvert_exporter": "python",
   "pygments_lexer": "ipython3",
   "version": "3.10.6"
  }
 },
 "nbformat": 4,
 "nbformat_minor": 5
}
