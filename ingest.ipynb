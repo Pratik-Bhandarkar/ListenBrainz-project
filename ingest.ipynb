{
 "cells": [
  {
   "cell_type": "code",
   "execution_count": null,
   "metadata": {},
   "outputs": [],
   "source": [
    "import json\n",
    "import sys\n",
    "from datetime import datetime\n",
    "import duckdb"
   ]
  },
  {
   "cell_type": "code",
   "execution_count": null,
   "metadata": {},
   "outputs": [],
   "source": [
    "con = duckdb.connect(\"scalable.db\")"
   ]
  },
  {
   "cell_type": "markdown",
   "metadata": {},
   "source": [
    "users dimension: one row per unique user_name"
   ]
  },
  {
   "cell_type": "code",
   "execution_count": null,
   "metadata": {},
   "outputs": [],
   "source": [
    "con.sql('CREATE TABLE IF NOT EXISTS users (user_name   VARCHAR PRIMARY KEY)')"
   ]
  },
  {
   "cell_type": "markdown",
   "metadata": {},
   "source": [
    "recordings dimension: one row per unique recording_msid"
   ]
  },
  {
   "cell_type": "code",
   "execution_count": null,
   "metadata": {},
   "outputs": [],
   "source": [
    "con.sql('CREATE TABLE IF NOT EXISTS recordings (recording_msid  VARCHAR PRIMARY KEY, '\n",
    "                                                'track_name VARCHAR NOT NULL, '\n",
    "                                                'artist_name VARCHAR NOT NULL, '\n",
    "                                                'release_name VARCHAR NOT NULL, '\n",
    "                                                'artist_msid VARCHAR, '\n",
    "                                                'release_msid  VARCHAR);')"
   ]
  },
  {
   "cell_type": "markdown",
   "metadata": {},
   "source": [
    "listens fact: one row per listening event\n",
    "References both users and recordings. Composite PK prevents duplicates."
   ]
  },
  {
   "cell_type": "code",
   "execution_count": null,
   "metadata": {},
   "outputs": [],
   "source": [
    "\n",
    "con.sql('CREATE TABLE IF NOT EXISTS listens ( user_name VARCHAR REFERENCES users(user_name),'\n",
    "                                              'recording_msid VARCHAR REFERENCES recordings(recording_msid),'\n",
    "                                              'listened_at TIMESTAMP,'\n",
    "                                              'PRIMARY KEY (user_name, recording_msid, listened_at));')"
   ]
  }
 ],
 "metadata": {
  "kernelspec": {
   "display_name": "scalablecapitalenv",
   "language": "python",
   "name": "python3"
  },
  "language_info": {
   "codemirror_mode": {
    "name": "ipython",
    "version": 3
   },
   "file_extension": ".py",
   "mimetype": "text/x-python",
   "name": "python",
   "nbconvert_exporter": "python",
   "pygments_lexer": "ipython3",
   "version": "3.10.6"
  }
 },
 "nbformat": 4,
 "nbformat_minor": 2
}
